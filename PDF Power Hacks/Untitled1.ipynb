{
 "cells": [
  {
   "cell_type": "code",
   "execution_count": null,
   "id": "08299e7b-19fb-4b0d-bf3b-cb63fb96d643",
   "metadata": {},
   "outputs": [],
   "source": []
  }
 ],
 "metadata": {
  "kernelspec": {
   "display_name": "",
   "name": ""
  },
  "language_info": {
   "name": ""
  }
 },
 "nbformat": 4,
 "nbformat_minor": 5
}
