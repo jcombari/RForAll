{
 "cells": [
  {
   "cell_type": "code",
   "execution_count": 5,
   "id": "32e4fa92-986f-458e-b3ba-07e866d2459d",
   "metadata": {},
   "outputs": [
    {
     "name": "stderr",
     "output_type": "stream",
     "text": [
      "Warning message:\n",
      "\"package 'pdftools' was built under R version 4.4.3\"\n",
      "Using poppler version 23.08.0\n",
      "\n"
     ]
    },
    {
     "data": {
      "text/html": [
       "<strong>pdf:</strong> 2"
      ],
      "text/latex": [
       "\\textbf{pdf:} 2"
      ],
      "text/markdown": [
       "**pdf:** 2"
      ],
      "text/plain": [
       "pdf \n",
       "  2 "
      ]
     },
     "metadata": {},
     "output_type": "display_data"
    },
    {
     "name": "stderr",
     "output_type": "stream",
     "text": [
      "Warning message in system(cmd):\n",
      "\"'qpdf' not found\"\n",
      "Saved Chapter 1: 20250617_pdf_files/20250617_Chapter_1.pdf\n",
      "\n",
      "Warning message in system(cmd):\n",
      "\"'qpdf' not found\"\n",
      "Saved Chapter 2: 20250617_pdf_files/20250617_Chapter_2.pdf\n",
      "\n",
      "Warning message in system(cmd):\n",
      "\"'qpdf' not found\"\n",
      "Saved Chapter 3: 20250617_pdf_files/20250617_Chapter_3.pdf\n",
      "\n"
     ]
    }
   ],
   "source": [
    "# Instalar si es necesario: install.packages(\"pdftools\")\n",
    "library(pdftools)\n",
    "\n",
    "# Crear un PDF de ejemplo (necesita tener `ghostscript` o `cairo`)\n",
    "create_sample_pdf <- function(filename, total_pages = 30) {\n",
    "  pdf(filename)\n",
    "  for (i in 1:total_pages) {\n",
    "    plot.new()\n",
    "    text(0.5, 0.5, paste(\"Page\", i), cex = 3)\n",
    "  }\n",
    "  dev.off()\n",
    "}\n",
    "\n",
    "# Crear PDF de ejemplo\n",
    "sample_pdf <- \"20250617_document.pdf\"\n",
    "create_sample_pdf(sample_pdf)\n",
    "\n",
    "# Define capítulos como rangos de páginas\n",
    "chapter_ranges <- list(\n",
    "  c(1, 10),\n",
    "  c(11, 20),\n",
    "  c(21, 30)\n",
    ")\n",
    "\n",
    "# Crear carpeta de salida si no existe\n",
    "output_folder <- \"20250617_pdf_files\"\n",
    "if (!dir.exists(output_folder)) {\n",
    "  dir.create(output_folder)\n",
    "}\n",
    "\n",
    "# Función para dividir el PDF usando qpdf\n",
    "split_pdf_by_chapters <- function(input_pdf, output_prefix, output_folder, chapters) {\n",
    "  for (i in seq_along(chapters)) {\n",
    "    range <- chapters[[i]]\n",
    "    output_file <- file.path(output_folder, paste0(output_prefix, \"_Chapter_\", i, \".pdf\"))\n",
    "    cmd <- sprintf(\"qpdf '%s' --pages . %d-%d -- '%s'\",\n",
    "                   input_pdf, range[1], range[2], output_file)\n",
    "    system(cmd)\n",
    "    message(sprintf(\"Saved Chapter %d: %s\", i, output_file))\n",
    "  }\n",
    "}\n",
    "\n",
    "# Dividir PDF por capítulos\n",
    "split_pdf_by_chapters(sample_pdf, \"20250617\", output_folder, chapter_ranges)\n"
   ]
  },
  {
   "cell_type": "code",
   "execution_count": 17,
   "id": "9b738623-f24c-42fa-849f-dbf4864c6ff7",
   "metadata": {},
   "outputs": [
    {
     "data": {
      "text/html": [
       "<strong>pdf:</strong> 2"
      ],
      "text/latex": [
       "\\textbf{pdf:} 2"
      ],
      "text/markdown": [
       "**pdf:** 2"
      ],
      "text/plain": [
       "pdf \n",
       "  2 "
      ]
     },
     "metadata": {},
     "output_type": "display_data"
    },
    {
     "name": "stderr",
     "output_type": "stream",
     "text": [
      "Warning message in split_pdf_by_chapters(sample_pdf, \"20250617\", output_folder, :\n",
      "\"'qpdf' not found. Please install qpdf and ensure it is in your PATH.\"\n"
     ]
    }
   ],
   "source": [
    "# Oculta mensajes del paquete\n",
    "suppressPackageStartupMessages(library(pdftools))\n",
    "\n",
    "# Crear un PDF de ejemplo\n",
    "create_sample_pdf <- function(filename, total_pages = 30) {\n",
    "  pdf(filename)\n",
    "  for (i in 1:total_pages) {\n",
    "    plot.new()\n",
    "    text(0.5, 0.5, paste(\"Page\", i), cex = 3)\n",
    "  }\n",
    "  dev.off()\n",
    "}\n",
    "\n",
    "# Crear PDF\n",
    "sample_pdf <- \"20250617_document.pdf\"\n",
    "create_sample_pdf(sample_pdf)\n",
    "\n",
    "# Rango de capítulos\n",
    "chapter_ranges <- list(\n",
    "  c(1, 10),\n",
    "  c(11, 20),\n",
    "  c(21, 30)\n",
    ")\n",
    "\n",
    "# Carpeta de salida\n",
    "output_folder <- \"20250617_pdf_files\"\n",
    "if (!dir.exists(output_folder)) dir.create(output_folder)\n",
    "\n",
    "# Dividir PDF por capítulos usando qpdf\n",
    "split_pdf_by_chapters <- function(input_pdf, output_prefix, output_folder, chapters) {\n",
    "  qpdf_path <- Sys.which(\"qpdf\")\n",
    "  if (qpdf_path == \"\") {\n",
    "    warning(\"'qpdf' not found. Please install qpdf and ensure it is in your PATH.\")\n",
    "    return(invisible(NULL))\n",
    "  }\n",
    "  for (i in seq_along(chapters)) {\n",
    "    range <- chapters[[i]]\n",
    "    output_file <- file.path(output_folder, paste0(output_prefix, \"_Chapter_\", i, \".pdf\"))\n",
    "    cmd <- sprintf(\"qpdf '%s' --pages . %d-%d -- '%s'\",\n",
    "                   input_pdf, range[1], range[2], output_file)\n",
    "    suppressWarnings(system(cmd))\n",
    "    message(sprintf(\"✅ Saved Chapter %d: %s\", i, output_file))\n",
    "  }\n",
    "}\n",
    "\n",
    "# Ejecutar división\n",
    "split_pdf_by_chapters(sample_pdf, \"20250617\", output_folder, chapter_ranges)\n"
   ]
  },
  {
   "cell_type": "code",
   "execution_count": 15,
   "id": "4b2316ba-d2c6-4be4-9e87-de46676bbd17",
   "metadata": {},
   "outputs": [
    {
     "name": "stderr",
     "output_type": "stream",
     "text": [
      "Installing package into 'C:/Users/jenny/AppData/Local/R/win-library/4.4'\n",
      "(as 'lib' is unspecified)\n",
      "\n"
     ]
    },
    {
     "name": "stdout",
     "output_type": "stream",
     "text": [
      "package 'qpdf' successfully unpacked and MD5 sums checked\n"
     ]
    },
    {
     "name": "stderr",
     "output_type": "stream",
     "text": [
      "Warning message:\n",
      "\"cannot remove prior installation of package 'qpdf'\"\n",
      "Warning message in file.copy(savedcopy, lib, recursive = TRUE):\n",
      "\"problema al copiar C:\\Users\\jenny\\AppData\\Local\\R\\win-library\\4.4\\00LOCK\\qpdf\\libs\\x64\\qpdf.dll  a C:\\Users\\jenny\\AppData\\Local\\R\\win-library\\4.4\\qpdf\\libs\\x64\\qpdf.dll: Permission denied\"\n",
      "Warning message:\n",
      "\"restored 'qpdf'\"\n"
     ]
    },
    {
     "name": "stdout",
     "output_type": "stream",
     "text": [
      "\n",
      "The downloaded binary packages are in\n",
      "\tC:\\Users\\jenny\\AppData\\Local\\Temp\\RtmpEVHopL\\downloaded_packages\n"
     ]
    }
   ],
   "source": [
    "install.packages(\"qpdf\")\n"
   ]
  }
 ],
 "metadata": {
  "kernelspec": {
   "display_name": "R",
   "language": "R",
   "name": "ir"
  },
  "language_info": {
   "codemirror_mode": "r",
   "file_extension": ".r",
   "mimetype": "text/x-r-source",
   "name": "R",
   "pygments_lexer": "r",
   "version": "4.4.2"
  }
 },
 "nbformat": 4,
 "nbformat_minor": 5
}
