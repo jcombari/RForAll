{
 "cells": [
  {
   "cell_type": "code",
   "execution_count": null,
   "id": "2b2f4523-f46c-4223-9ba0-2d3d1f20dd4f",
   "metadata": {},
   "outputs": [],
   "source": []
  }
 ],
 "metadata": {
  "kernelspec": {
   "display_name": "",
   "name": ""
  },
  "language_info": {
   "name": ""
  }
 },
 "nbformat": 4,
 "nbformat_minor": 5
}
