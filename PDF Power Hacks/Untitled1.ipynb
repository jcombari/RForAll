{
 "cells": [
  {
   "cell_type": "code",
   "execution_count": 9,
   "id": "ce4fcafd-5115-48c2-8927-e0d423df3333",
   "metadata": {},
   "outputs": [
    {
     "name": "stderr",
     "output_type": "stream",
     "text": [
      "Warning message in sprintf(filenames, pages, format):\n",
      "\"2 arguments not used by format '20250701_big_text_from_pdf.png'\"\n"
     ]
    },
    {
     "name": "stdout",
     "output_type": "stream",
     "text": [
      "Converting page 1 to 20250701_big_text_from_pdf.png... done!\n"
     ]
    },
    {
     "data": {
      "text/html": [
       "'20250701_big_text_from_pdf.png'"
      ],
      "text/latex": [
       "'20250701\\_big\\_text\\_from\\_pdf.png'"
      ],
      "text/markdown": [
       "'20250701_big_text_from_pdf.png'"
      ],
      "text/plain": [
       "[1] \"20250701_big_text_from_pdf.png\""
      ]
     },
     "metadata": {},
     "output_type": "display_data"
    },
    {
     "name": "stderr",
     "output_type": "stream",
     "text": [
      "Generated files: 20250701_big_text.png, 20250701_big_text.pdf, 20250701_ocr_output.txt\n",
      "\n"
     ]
    }
   ],
   "source": [
    "library(magick)\n",
    "library(tesseract)\n",
    "library(pdftools)\n",
    "\n",
    "# Parámetros\n",
    "text      <- \"Hello OCR!\"\n",
    "font_size <- 100\n",
    "font      <- \"Arial\"\n",
    "padding   <- 30  # padding más generoso para evitar recorte\n",
    "\n",
    "# Crear un canvas suficientemente grande (estimación)\n",
    "canvas_width  <- 600\n",
    "canvas_height <- 200\n",
    "\n",
    "canvas <- image_blank(width = canvas_width,\n",
    "                      height = canvas_height,\n",
    "                      color = \"white\")\n",
    "\n",
    "# Añadir texto centrado\n",
    "annotation <- image_annotate(\n",
    "  canvas,\n",
    "  text,\n",
    "  font  = font,\n",
    "  size  = font_size,\n",
    "  color = \"black\",\n",
    "  gravity = \"NorthWest\",  # posicionar en esquina superior izquierda\n",
    "  location = paste0(\"+\", padding, \"+\", padding)\n",
    ")\n",
    "\n",
    "# Guardar PNG\n",
    "png_path <- \"20250701_big_text.png\"\n",
    "image_write(annotation, path = png_path, format = \"png\")\n",
    "\n",
    "# Guardar PDF\n",
    "pdf_path <- \"20250701_big_text.pdf\"\n",
    "image_write(annotation, path = pdf_path, format = \"pdf\")\n",
    "\n",
    "# Convertir PDF a PNG con pdftools (más confiable)\n",
    "png_from_pdf <- \"20250701_big_text_from_pdf.png\"\n",
    "pdf_convert(pdf_path, format = \"png\", pages = 1, filenames = png_from_pdf, dpi = 300)\n",
    "\n",
    "# Leer imagen convertida\n",
    "pages <- image_read(png_from_pdf)\n",
    "\n",
    "# OCR con tesseract\n",
    "ocr_text <- tesseract::ocr(pages)\n",
    "\n",
    "# Guardar texto OCR\n",
    "txt_path <- \"20250701_ocr_output.txt\"\n",
    "writeLines(ocr_text, con = txt_path)\n",
    "\n",
    "message(\"Generated files: \", png_path, \", \", pdf_path, \", \", txt_path)\n",
    "\n"
   ]
  }
 ],
 "metadata": {
  "kernelspec": {
   "display_name": "R",
   "language": "R",
   "name": "ir"
  },
  "language_info": {
   "codemirror_mode": "r",
   "file_extension": ".r",
   "mimetype": "text/x-r-source",
   "name": "R",
   "pygments_lexer": "r",
   "version": "4.4.2"
  }
 },
 "nbformat": 4,
 "nbformat_minor": 5
}
