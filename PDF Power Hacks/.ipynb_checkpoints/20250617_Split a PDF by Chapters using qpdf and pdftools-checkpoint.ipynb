{
 "cells": [
  {
   "attachments": {},
   "cell_type": "markdown",
   "id": "ca169313-cdaa-4123-9086-c5104409609f",
   "metadata": {},
   "source": [
    "# 📘 PDF Power Hacks: Everything You Didn’t Know You Could Do with R and Your PDF Files  \n",
    "### 🛡️ DIY in AI: Protect your data. Don’t upload it anywhere.\n",
    "\n",
    "# 🐍 R | Split a PDF by Chapters using qpdf and pdftools 📄✂️  \n",
    "\n",
    "## ❓Got a huge PDF like a thesis or manual and want to split it into manageable parts? 🙃  \n",
    "With R and qpdf, you can do it locally and securely without uploading anything to the cloud.\n",
    "\n",
    "## 👉 Solution  \n",
    "📂 Split a PDF into multiple files by specific page intervals.  \n",
    "📚 Perfect for organizing long documents and sharing only what you need.\n",
    "\n",
    "## 🔧 How does it work?  \n",
    "📦 Use pdftools to inspect the PDF and qpdf to split the file.  \n",
    "🖥️ Run system commands from R for automation.\n",
    "\n",
    "## 🔎 Why does it matter?  \n",
    "🚀 Boosts productivity when working with large documents.  \n",
    "🛡️ Keeps your data safe without relying on external services.  \n",
    "🤖 Useful for data scientists, engineers, and analysts working with extensive reports.\n",
    "\n",
    "## ✨ Real-world example:  \n",
    "📖 Imagine a 30-page thesis divided into 3 chapters:  \n",
    "🔹 Chapter 1: pages 1-10  \n",
    "🔹 Chapter 2: pages 11-20  \n",
    "🔹 Chapter 3: pages 21-30  \n",
    "With R and qpdf, you can extract and save each chapter automatically as separate PDFs.\n",
    "\n",
    "## ⚙️ Business impact:  \n",
    "💡 Optimizes document management  \n",
    "💡 Makes collaboration easier by sharing only needed sections  \n",
    "💡 Automates manual workflows to save time\n",
    "\n",
    "## 📊 Code summary  \n",
    "📝 Creates a sample PDF with 30 numbered pages  \n",
    "📂 Defines page ranges for chapters  \n",
    "🔗 Uses qpdf called from R to split the PDF and save each chapter separately\n",
    "\n",
    "## 🔗 GitHub (RForAll)\n",
    "\n",
    "## 💭 Thought:  \n",
    "How would you organize your long documents to make your workflow more efficient? What other PDF files would you automate with R?\n",
    "\n",
    "🔑 #RStats #DataScience #pdftools #qpdf #Automation #AI #TechForGood #DataPrivacy  \n",
    "\n",
    "🔁 If you found this post useful, feel free to share it with your network.  \n",
    "⚠️ Please do not copy or repost it as your own. Respect original work.\n",
    "\n",
    "---\n",
    "\n",
    "# 📘 PDF Power Hacks: Todo lo que no sabías que podías hacer con R y tus archivos PDF  \n",
    "### 🛡️ DIY en IA: Protege tus datos. No los subas a ningún sitio.\n",
    "\n",
    "# 🐍 R | Separar un PDF por capítulos con qpdf y pdftools 📄✂️  \n",
    "\n",
    "## ❓¿Tienes un PDF grande como una tesis o manual técnico y quieres dividirlo en partes manejables? 🙃  \n",
    "Con R y qpdf, puedes hacerlo localmente y de forma segura sin subir nada a la nube.\n",
    "\n",
    "## 👉 Solución  \n",
    "📂 Divide un PDF en varios archivos por intervalos de páginas específicos.  \n",
    "📚 Ideal para organizar documentos largos y compartir solo lo que necesitas.\n",
    "\n",
    "## 🔧 ¿Cómo funciona?  \n",
    "📦 Usa pdftools para inspeccionar el PDF y qpdf para dividir el archivo.  \n",
    "🖥️ Ejecuta comandos del sistema desde R para automatizar.\n",
    "\n",
    "## 🔎 ¿Por qué importa?  \n",
    "🚀 Aumenta la productividad al manejar documentos grandes.  \n",
    "🛡️ Mantiene tus datos seguros sin depender de servicios externos.  \n",
    "🤖 Útil para científicos de datos, ingenieros y analistas que trabajan con reportes extensos.\n",
    "\n",
    "## ✨ Ejemplo real o Caso práctico:  \n",
    "📖 Imagina una tesis de 30 páginas dividida en 3 capítulos:  \n",
    "🔹 Capítulo 1: páginas 1-10  \n",
    "🔹 Capítulo 2: páginas 11-20  \n",
    "🔹 Capítulo 3: páginas 21-30  \n",
    "Con R y qpdf, puedes extraer y guardar cada capítulo en un PDF separado automáticamente.\n",
    "\n",
    "## ⚙️ Impacto en el negocio:  \n",
    "💡 Optimiza la gestión documental  \n",
    "💡 Facilita la colaboración al compartir solo la sección necesaria  \n",
    "💡 Automatiza procesos manuales para ahorrar tiempo\n",
    "\n",
    "## 📊 Resumen del código  \n",
    "📝 Crea un PDF de muestra con 30 páginas numeradas  \n",
    "📂 Define rangos de páginas para capítulos  \n",
    "🔧 Usa qpdf desde R para dividir el PDF y guardar cada capítulo por separado\n",
    "\n",
    "## 🔗 GitHub (RForAll)\n",
    "\n",
    "## 💭 Reflexión:  \n",
    "¿Cómo organizarías tus documentos largos para hacer tu flujo de trabajo más eficiente? ¿Qué otros archivos PDF te gustaría automatizar con R?\n",
    "\n",
    "🔑 #RStats #CienciaDeDatos #pdftools #qpdf #Automatización #IA #TechForGood #PrivacidadDeDatos  \n",
    "\n",
    "🔁 Si te ha parecido útil, siéntete libre de compartir esta publicación con tu red.  \n",
    "⚠️ Por favor, no la copies ni la publiques como propia. Respeta el trabajo original.\n"
   ]
  },
  {
   "cell_type": "code",
   "execution_count": 5,
   "id": "32e4fa92-986f-458e-b3ba-07e866d2459d",
   "metadata": {},
   "outputs": [
    {
     "name": "stderr",
     "output_type": "stream",
     "text": [
      "Warning message:\n",
      "\"package 'pdftools' was built under R version 4.4.3\"\n",
      "Using poppler version 23.08.0\n",
      "\n"
     ]
    },
    {
     "data": {
      "text/html": [
       "<strong>pdf:</strong> 2"
      ],
      "text/latex": [
       "\\textbf{pdf:} 2"
      ],
      "text/markdown": [
       "**pdf:** 2"
      ],
      "text/plain": [
       "pdf \n",
       "  2 "
      ]
     },
     "metadata": {},
     "output_type": "display_data"
    },
    {
     "name": "stderr",
     "output_type": "stream",
     "text": [
      "Warning message in system(cmd):\n",
      "\"'qpdf' not found\"\n",
      "Saved Chapter 1: 20250617_pdf_files/20250617_Chapter_1.pdf\n",
      "\n",
      "Warning message in system(cmd):\n",
      "\"'qpdf' not found\"\n",
      "Saved Chapter 2: 20250617_pdf_files/20250617_Chapter_2.pdf\n",
      "\n",
      "Warning message in system(cmd):\n",
      "\"'qpdf' not found\"\n",
      "Saved Chapter 3: 20250617_pdf_files/20250617_Chapter_3.pdf\n",
      "\n"
     ]
    }
   ],
   "source": [
    "# Instalar si es necesario: install.packages(\"pdftools\")\n",
    "library(pdftools)\n",
    "\n",
    "# Crear un PDF de ejemplo (necesita tener `ghostscript` o `cairo`)\n",
    "create_sample_pdf <- function(filename, total_pages = 30) {\n",
    "  pdf(filename)\n",
    "  for (i in 1:total_pages) {\n",
    "    plot.new()\n",
    "    text(0.5, 0.5, paste(\"Page\", i), cex = 3)\n",
    "  }\n",
    "  dev.off()\n",
    "}\n",
    "\n",
    "# Crear PDF de ejemplo\n",
    "sample_pdf <- \"20250617_document.pdf\"\n",
    "create_sample_pdf(sample_pdf)\n",
    "\n",
    "# Define capítulos como rangos de páginas\n",
    "chapter_ranges <- list(\n",
    "  c(1, 10),\n",
    "  c(11, 20),\n",
    "  c(21, 30)\n",
    ")\n",
    "\n",
    "# Crear carpeta de salida si no existe\n",
    "output_folder <- \"20250617_pdf_files\"\n",
    "if (!dir.exists(output_folder)) {\n",
    "  dir.create(output_folder)\n",
    "}\n",
    "\n",
    "# Función para dividir el PDF usando qpdf\n",
    "split_pdf_by_chapters <- function(input_pdf, output_prefix, output_folder, chapters) {\n",
    "  for (i in seq_along(chapters)) {\n",
    "    range <- chapters[[i]]\n",
    "    output_file <- file.path(output_folder, paste0(output_prefix, \"_Chapter_\", i, \".pdf\"))\n",
    "    cmd <- sprintf(\"qpdf '%s' --pages . %d-%d -- '%s'\",\n",
    "                   input_pdf, range[1], range[2], output_file)\n",
    "    system(cmd)\n",
    "    message(sprintf(\"Saved Chapter %d: %s\", i, output_file))\n",
    "  }\n",
    "}\n",
    "\n",
    "# Dividir PDF por capítulos\n",
    "split_pdf_by_chapters(sample_pdf, \"20250617\", output_folder, chapter_ranges)\n"
   ]
  },
  {
   "cell_type": "code",
   "execution_count": 17,
   "id": "9b738623-f24c-42fa-849f-dbf4864c6ff7",
   "metadata": {},
   "outputs": [
    {
     "data": {
      "text/html": [
       "<strong>pdf:</strong> 2"
      ],
      "text/latex": [
       "\\textbf{pdf:} 2"
      ],
      "text/markdown": [
       "**pdf:** 2"
      ],
      "text/plain": [
       "pdf \n",
       "  2 "
      ]
     },
     "metadata": {},
     "output_type": "display_data"
    },
    {
     "name": "stderr",
     "output_type": "stream",
     "text": [
      "Warning message in split_pdf_by_chapters(sample_pdf, \"20250617\", output_folder, :\n",
      "\"'qpdf' not found. Please install qpdf and ensure it is in your PATH.\"\n"
     ]
    }
   ],
   "source": [
    "# Oculta mensajes del paquete\n",
    "suppressPackageStartupMessages(library(pdftools))\n",
    "\n",
    "# Crear un PDF de ejemplo\n",
    "create_sample_pdf <- function(filename, total_pages = 30) {\n",
    "  pdf(filename)\n",
    "  for (i in 1:total_pages) {\n",
    "    plot.new()\n",
    "    text(0.5, 0.5, paste(\"Page\", i), cex = 3)\n",
    "  }\n",
    "  dev.off()\n",
    "}\n",
    "\n",
    "# Crear PDF\n",
    "sample_pdf <- \"20250617_document.pdf\"\n",
    "create_sample_pdf(sample_pdf)\n",
    "\n",
    "# Rango de capítulos\n",
    "chapter_ranges <- list(\n",
    "  c(1, 10),\n",
    "  c(11, 20),\n",
    "  c(21, 30)\n",
    ")\n",
    "\n",
    "# Carpeta de salida\n",
    "output_folder <- \"20250617_pdf_files\"\n",
    "if (!dir.exists(output_folder)) dir.create(output_folder)\n",
    "\n",
    "# Dividir PDF por capítulos usando qpdf\n",
    "split_pdf_by_chapters <- function(input_pdf, output_prefix, output_folder, chapters) {\n",
    "  qpdf_path <- Sys.which(\"qpdf\")\n",
    "  if (qpdf_path == \"\") {\n",
    "    warning(\"'qpdf' not found. Please install qpdf and ensure it is in your PATH.\")\n",
    "    return(invisible(NULL))\n",
    "  }\n",
    "  for (i in seq_along(chapters)) {\n",
    "    range <- chapters[[i]]\n",
    "    output_file <- file.path(output_folder, paste0(output_prefix, \"_Chapter_\", i, \".pdf\"))\n",
    "    cmd <- sprintf(\"qpdf '%s' --pages . %d-%d -- '%s'\",\n",
    "                   input_pdf, range[1], range[2], output_file)\n",
    "    suppressWarnings(system(cmd))\n",
    "    message(sprintf(\"✅ Saved Chapter %d: %s\", i, output_file))\n",
    "  }\n",
    "}\n",
    "\n",
    "# Ejecutar división\n",
    "split_pdf_by_chapters(sample_pdf, \"20250617\", output_folder, chapter_ranges)\n"
   ]
  },
  {
   "cell_type": "code",
   "execution_count": 15,
   "id": "4b2316ba-d2c6-4be4-9e87-de46676bbd17",
   "metadata": {},
   "outputs": [
    {
     "name": "stderr",
     "output_type": "stream",
     "text": [
      "Installing package into 'C:/Users/jenny/AppData/Local/R/win-library/4.4'\n",
      "(as 'lib' is unspecified)\n",
      "\n"
     ]
    },
    {
     "name": "stdout",
     "output_type": "stream",
     "text": [
      "package 'qpdf' successfully unpacked and MD5 sums checked\n"
     ]
    },
    {
     "name": "stderr",
     "output_type": "stream",
     "text": [
      "Warning message:\n",
      "\"cannot remove prior installation of package 'qpdf'\"\n",
      "Warning message in file.copy(savedcopy, lib, recursive = TRUE):\n",
      "\"problema al copiar C:\\Users\\jenny\\AppData\\Local\\R\\win-library\\4.4\\00LOCK\\qpdf\\libs\\x64\\qpdf.dll  a C:\\Users\\jenny\\AppData\\Local\\R\\win-library\\4.4\\qpdf\\libs\\x64\\qpdf.dll: Permission denied\"\n",
      "Warning message:\n",
      "\"restored 'qpdf'\"\n"
     ]
    },
    {
     "name": "stdout",
     "output_type": "stream",
     "text": [
      "\n",
      "The downloaded binary packages are in\n",
      "\tC:\\Users\\jenny\\AppData\\Local\\Temp\\RtmpEVHopL\\downloaded_packages\n"
     ]
    }
   ],
   "source": [
    "install.packages(\"qpdf\")\n"
   ]
  }
 ],
 "metadata": {
  "kernelspec": {
   "display_name": "R",
   "language": "R",
   "name": "ir"
  },
  "language_info": {
   "codemirror_mode": "r",
   "file_extension": ".r",
   "mimetype": "text/x-r-source",
   "name": "R",
   "pygments_lexer": "r",
   "version": "4.4.2"
  }
 },
 "nbformat": 4,
 "nbformat_minor": 5
}
