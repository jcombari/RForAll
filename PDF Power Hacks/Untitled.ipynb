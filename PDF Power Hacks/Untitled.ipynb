{
 "cells": [
  {
   "cell_type": "code",
   "execution_count": 1,
   "id": "57b1fa5a-c45e-4dfc-a13f-18de3a77f68d",
   "metadata": {},
   "outputs": [
    {
     "name": "stderr",
     "output_type": "stream",
     "text": [
      "Warning message:\n",
      "\"package 'qpdf' was built under R version 4.4.3\"\n"
     ]
    },
    {
     "data": {
      "text/html": [
       "<strong>pdf:</strong> 2"
      ],
      "text/latex": [
       "\\textbf{pdf:} 2"
      ],
      "text/markdown": [
       "**pdf:** 2"
      ],
      "text/plain": [
       "pdf \n",
       "  2 "
      ]
     },
     "metadata": {},
     "output_type": "display_data"
    },
    {
     "name": "stderr",
     "output_type": "stream",
     "text": [
      "Saved file: 20250619_original_sample.pdf\n",
      "\n",
      "Saved file: 20250619_reordered_sample.pdf\n",
      "\n"
     ]
    }
   ],
   "source": [
    "library(qpdf)    # Para manipular PDFs\n",
    "library(glue)    # Para construir strings fácilmente (opcional)\n",
    "\n",
    "# Crear un PDF con 5 páginas numeradas\n",
    "create_sample_pdf <- function(file) {\n",
    "  pdf(file, width = 8.5, height = 11)  # tamaño carta\n",
    "  for (page_num in 1:5) {\n",
    "    plot.new()\n",
    "    text(0.5, 0.5, labels = paste(\"Page\", page_num), cex = 3)\n",
    "  }\n",
    "  dev.off()\n",
    "}\n",
    "\n",
    "# Guardar archivo con prefijo de fecha\n",
    "save_pdf_with_date <- function(input_file, suffix_name) {\n",
    "  date_prefix <- format(Sys.Date(), \"%Y%m%d_\")\n",
    "  output_file <- paste0(date_prefix, suffix_name)\n",
    "  file.copy(input_file, output_file, overwrite = TRUE)\n",
    "  message(\"Saved file: \", output_file)\n",
    "  return(output_file)\n",
    "}\n",
    "\n",
    "# Reordenar páginas de un PDF dado un vector con el nuevo orden\n",
    "reorder_pdf_pages <- function(input_file, new_order, output_file) {\n",
    "  # qpdf espera que las páginas empiecen en 1, no en 0 (como en Python)\n",
    "  new_order_plus1 <- new_order + 1\n",
    "  qpdf::pdf_subset(input_file, pages = new_order_plus1, output = output_file)\n",
    "  return(output_file)\n",
    "}\n",
    "\n",
    "# ----------- Uso -------------\n",
    "\n",
    "# Crear PDF temporal\n",
    "temp_pdf <- tempfile(fileext = \".pdf\")\n",
    "create_sample_pdf(temp_pdf)\n",
    "\n",
    "# Guardar con fecha y nombre original\n",
    "file_original <- save_pdf_with_date(temp_pdf, \"20250619_original_sample.pdf\")\n",
    "\n",
    "# Definir nuevo orden (como en Python: [4,0,1,2,3])\n",
    "new_order <- c(4, 0, 1, 2, 3)\n",
    "\n",
    "# Reordenar PDF y guardar\n",
    "temp_reordered_pdf <- tempfile(fileext = \".pdf\")\n",
    "file_reordered <- reorder_pdf_pages(file_original, new_order, temp_reordered_pdf)\n",
    "file_reordered <- save_pdf_with_date(file_reordered, \"20250619_reordered_sample.pdf\")\n"
   ]
  }
 ],
 "metadata": {
  "kernelspec": {
   "display_name": "R",
   "language": "R",
   "name": "ir"
  },
  "language_info": {
   "codemirror_mode": "r",
   "file_extension": ".r",
   "mimetype": "text/x-r-source",
   "name": "R",
   "pygments_lexer": "r",
   "version": "4.4.2"
  }
 },
 "nbformat": 4,
 "nbformat_minor": 5
}
