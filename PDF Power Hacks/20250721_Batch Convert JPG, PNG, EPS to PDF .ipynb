{
 "cells": [
  {
   "cell_type": "code",
   "execution_count": null,
   "id": "846b5fbb-ff51-49ef-b722-21c03e1bcf77",
   "metadata": {},
   "outputs": [],
   "source": []
  },
  {
   "cell_type": "code",
   "execution_count": 3,
   "id": "b4c112fc-28bb-4fae-9c4e-d5c1609d5531",
   "metadata": {},
   "outputs": [],
   "source": [
    "# Requiere: magick, fs\n",
    "library(magick)\n",
    "library(fs)\n",
    "\n",
    "# Definir carpetas de entrada y salida\n",
    "input_dir <- \"202507220_input_images\"\n",
    "output_dir <- \"202507220_output_pdfs\"\n",
    "dir_create(output_dir)\n",
    "\n",
    "# Extensiones válidas\n",
    "valid_exts <- c(\".jpg\", \".jpeg\", \".png\", \".eps\")\n",
    "\n",
    "# Obtener lista de archivos válidos\n",
    "img_files <- dir_ls(input_dir, regexp = paste0(\"(\", paste(valid_exts, collapse = \"|\"), \")$\"), recurse = FALSE)\n",
    "\n",
    "# Lista para almacenar imágenes para el PDF combinado\n",
    "images_for_merge <- list()\n",
    "\n",
    "# Procesar cada imagen individual\n",
    "for (img_path in img_files) {\n",
    "  img <- image_read(img_path)\n",
    "  img_rgb <- image_convert(img, colorspace = \"RGB\")\n",
    "  \n",
    "  # Guardar PDF individual\n",
    "  pdf_name <- file.path(output_dir, paste0(\"202507220_\", path_ext_remove(path_file(img_path)), \".pdf\"))\n",
    "  image_write(img_rgb, path = pdf_name, format = \"pdf\")\n",
    "  \n",
    "  # Agregar a la lista para PDF combinado\n",
    "  images_for_merge <- append(images_for_merge, list(img_rgb))\n",
    "}\n",
    "\n",
    "# Guardar PDF combinado si hay imágenes\n",
    "if (length(images_for_merge) > 0) {\n",
    "  merged_pdf_path <- file.path(output_dir, \"202507220_combined_images.pdf\")\n",
    "  combined <- image_join(images_for_merge)\n",
    "  image_write(combined, path = merged_pdf_path, format = \"pdf\")\n",
    "}\n"
   ]
  }
 ],
 "metadata": {
  "kernelspec": {
   "display_name": "R",
   "language": "R",
   "name": "ir"
  },
  "language_info": {
   "codemirror_mode": "r",
   "file_extension": ".r",
   "mimetype": "text/x-r-source",
   "name": "R",
   "pygments_lexer": "r",
   "version": "4.4.2"
  }
 },
 "nbformat": 4,
 "nbformat_minor": 5
}
