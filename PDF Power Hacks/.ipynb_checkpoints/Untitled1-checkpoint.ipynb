{
 "cells": [
  {
   "cell_type": "code",
   "execution_count": 15,
   "id": "22dc0255-6a04-4470-89e6-04a67387d6d3",
   "metadata": {},
   "outputs": [
    {
     "name": "stdout",
     "output_type": "stream",
     "text": [
      "Processing page 1 of 1\n",
      "OCR completed, text saved in 20250701_ocr_extracted_text.txt\n"
     ]
    }
   ],
   "source": [
    "# PDF Power Hacks: Extract Images from PDF and Perform OCR in R\n",
    "\n",
    "# Install required packages if not already installed\n",
    "# install.packages(c(\"magick\", \"tesseract\"))\n",
    "\n",
    "library(magick)\n",
    "library(tesseract)\n",
    "\n",
    "pdf_path <- \"20250701_big_text.pdf\"\n",
    "\n",
    "# Read each page of the PDF as an image\n",
    "pages <- image_read(pdf_path)\n",
    "\n",
    "ocr_text <- \"\"\n",
    "\n",
    "for (i in seq_along(pages)) {\n",
    "  cat(sprintf(\"Processing page %d of %d\\n\", i, length(pages)))\n",
    "  \n",
    "  img <- pages[i]\n",
    "  \n",
    "  # Perform OCR on the page image\n",
    "  text <- ocr(img)\n",
    "  \n",
    "  ocr_text <- paste0(\n",
    "    ocr_text,\n",
    "    sprintf(\"Page %d:\\n\", i),\n",
    "    text,\n",
    "    \"\\n\"\n",
    "  )\n",
    "}\n",
    "\n",
    "# Save the extracted text to a file\n",
    "writeLines(ocr_text, \"20250701_ocr_extracted_text.txt\", useBytes = TRUE)\n",
    "\n",
    "cat(\"OCR completed, text saved in 20250701_ocr_extracted_text.txt\\n\")\n"
   ]
  }
 ],
 "metadata": {
  "kernelspec": {
   "display_name": "R",
   "language": "R",
   "name": "ir"
  },
  "language_info": {
   "codemirror_mode": "r",
   "file_extension": ".r",
   "mimetype": "text/x-r-source",
   "name": "R",
   "pygments_lexer": "r",
   "version": "4.4.2"
  }
 },
 "nbformat": 4,
 "nbformat_minor": 5
}
