{
 "cells": [
  {
   "cell_type": "markdown",
   "id": "31861388-322c-49b3-914a-e8d9223b7267",
   "metadata": {},
   "source": [
    "🧠 **PDF Power Hacks: Everything You Didn’t Know You Could Do with R and Your PDF Files**  \n",
    "🛡️ **DIY in AI**: Protect your data. Don’t upload it anywhere.  \n",
    "📘 **R | Merge multiple PDFs locally in seconds using `qpdf`** ✂️🧩  \n",
    "\n",
    "❓Need to combine several reports without compromising sensitive information?  \n",
    "With **R** and the **qpdf** package, you can do it locally—quickly and securely.  \n",
    "\n",
    "👉 **Solution**  \n",
    "📎 Merge multiple PDF files into one without uploading them to the cloud.  \n",
    "📦 Perfect for monthly reports, client deliverables, or technical documentation consolidation.  \n",
    "\n",
    "🔧 **How does it work?**  \n",
    "📚 We generate three PDFs using `grid` and `grDevices`.  \n",
    "🔗 Then, we merge them using `qpdf::pdf_combine()`.  \n",
    "\n",
    "🔎 **Why does it matter?**  \n",
    "🛡️ Privacy is a priority. Automate repetitive tasks without risking your data.  \n",
    "📈 A great fit for analysts, consulting teams, or anyone producing regular PDF reports.  \n",
    "\n",
    "✨ **Real-world use case:**  \n",
    "🤖 A consulting firm produces monthly reports for each client.  \n",
    "With R, they can automatically merge all reports—saving time and avoiding errors.  \n",
    "\n",
    "⚙️ **Business impact:**  \n",
    "💼 Saves operational time  \n",
    "🔐 Enhances data security  \n",
    "📈 Scales easily across projects or clients  \n",
    "\n",
    "📊 **Technical summary**  \n",
    "🎨 Generates three simple PDFs with text  \n",
    "🔗 Merges them using `pdf_combine()`  \n",
    "📁 Saves the result as a new PDF file  \n",
    "\n",
    "💭 **Thought:**  \n",
    "Would you automate your reporting workflow if it saved you hours and improved accuracy?\n",
    "\n",
    "🔑 #RStats #DataScience #Automation #PDFprocessing #qpdf #SmartReports #Analytics #DataPrivacy  \n",
    "\n",
    "🔁 If you found this useful, feel free to share it.  \n",
    "⚠️ Please don’t copy or repost it as your own. Respect original work.\n"
   ]
  },
  {
   "cell_type": "code",
   "execution_count": 1,
   "id": "365767ed-eb92-4370-b28f-e46f3cf1b039",
   "metadata": {},
   "outputs": [
    {
     "name": "stderr",
     "output_type": "stream",
     "text": [
      "Cargando paquete requerido: qpdf\n",
      "\n",
      "Warning message:\n",
      "\"package 'qpdf' was built under R version 4.4.3\"\n",
      "Cargando paquete requerido: grid\n",
      "\n"
     ]
    },
    {
     "data": {
      "text/html": [
       "'C:\\\\Users\\\\jenny\\\\Documents\\\\GITHUB\\\\RForAll\\\\PDF Power Hacks\\\\20250617_merged.pdf'"
      ],
      "text/latex": [
       "'C:\\textbackslash{}\\textbackslash{}Users\\textbackslash{}\\textbackslash{}jenny\\textbackslash{}\\textbackslash{}Documents\\textbackslash{}\\textbackslash{}GITHUB\\textbackslash{}\\textbackslash{}RForAll\\textbackslash{}\\textbackslash{}PDF Power Hacks\\textbackslash{}\\textbackslash{}20250617\\_merged.pdf'"
      ],
      "text/markdown": [
       "'C:\\\\Users\\\\jenny\\\\Documents\\\\GITHUB\\\\RForAll\\\\PDF Power Hacks\\\\20250617_merged.pdf'"
      ],
      "text/plain": [
       "[1] \"C:\\\\Users\\\\jenny\\\\Documents\\\\GITHUB\\\\RForAll\\\\PDF Power Hacks\\\\20250617_merged.pdf\""
      ]
     },
     "metadata": {},
     "output_type": "display_data"
    }
   ],
   "source": [
    "# 📦 Required libraries\n",
    "if (!require(\"qpdf\")) install.packages(\"qpdf\")      # For merging PDF files\n",
    "if (!require(\"grid\")) install.packages(\"grid\")      # For drawing text into PDFs (usually pre-installed)\n",
    "if (!require(\"grDevices\")) install.packages(\"grDevices\")  # Handles PDF creation (also pre-installed)\n",
    "\n",
    "library(qpdf)\n",
    "library(grid)\n",
    "library(grDevices)\n",
    "\n",
    "# 📆 Fixed date string used in filenames\n",
    "date_str <- \"20250617\"\n",
    "\n",
    "# 📁 Create folder to store individual PDF files\n",
    "folder_name <- paste0(date_str, \"_pdf_files\")\n",
    "dir.create(folder_name, showWarnings = FALSE)  # Create the folder if it doesn't already exist\n",
    "\n",
    "# 🧾 Generate 3 individual PDF reports with dummy content\n",
    "pdf_filenames <- character()  # Initialize empty vector to hold file paths\n",
    "\n",
    "for (i in 1:3) {\n",
    "  # 📝 Define the output filename for each PDF\n",
    "  filename <- file.path(folder_name, paste0(date_str, \"_file\", i, \".pdf\"))\n",
    "  \n",
    "  # 🖨️ Open a PDF graphics device\n",
    "  pdf(filename, width = 8, height = 11)\n",
    "  \n",
    "  # 🧠 Add centered title to the PDF using grid.text()\n",
    "  grid.text(paste(\"Monthly Report\", i), \n",
    "            x = 0.5, y = 0.9, \n",
    "            just = \"centre\",  # Correct justification\n",
    "            gp = gpar(fontsize = 20, fontface = \"bold\"))\n",
    "  \n",
    "  # 🧾 Add body text below the title\n",
    "  grid.text(paste(\"This report contains summarized data from machine learning experiments,\",\n",
    "                \"such as model accuracy, feature importance, and observations.\",\n",
    "                \"Use these insights to inform strategic decisions.\", sep = \"\\n\"),\n",
    "            x = 0.5, y = 0.6,\n",
    "            just = \"centre\",  # Align text center\n",
    "            gp = gpar(fontsize = 12))\n",
    "\n",
    "\n",
    "\n",
    "  # 🛑 Close the PDF device to save the file\n",
    "  dev.off()\n",
    "  \n",
    "  # 📌 Store the generated filename\n",
    "  pdf_filenames <- c(pdf_filenames, filename)\n",
    "}\n",
    "\n",
    "# 🧩 Merge the 3 individual PDF files into a single combined PDF\n",
    "merged_filename <- paste0(date_str, \"_merged.pdf\")  # Output filename for merged PDF\n",
    "\n",
    "pdf_combine(input = pdf_filenames, output = merged_filename)  # Merge operation\n",
    "\n",
    "# ✅ Final result:\n",
    "# - Folder: \"20250616_pdf_files\" → contains 3 individual PDFs\n",
    "# - File: \"20250616_merged.pdf\" → contains all pages combined into one document\n"
   ]
  },
  {
   "cell_type": "code",
   "execution_count": null,
   "id": "a835b783-19a0-486b-a348-6363c1cfe68d",
   "metadata": {},
   "outputs": [],
   "source": []
  }
 ],
 "metadata": {
  "kernelspec": {
   "display_name": "R",
   "language": "R",
   "name": "ir"
  },
  "language_info": {
   "codemirror_mode": "r",
   "file_extension": ".r",
   "mimetype": "text/x-r-source",
   "name": "R",
   "pygments_lexer": "r",
   "version": "4.4.2"
  }
 },
 "nbformat": 4,
 "nbformat_minor": 5
}
